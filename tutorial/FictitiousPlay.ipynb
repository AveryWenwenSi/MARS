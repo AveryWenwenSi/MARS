{
 "cells": [
  {
   "cell_type": "markdown",
   "id": "cb4e08f7",
   "metadata": {},
   "source": [
    "# Fictitious Play\n",
    "This tutorial  demonstrates fictitious play on a zero-sum strategic (non-extensive) game. \n",
    "\n",
    "For the payoff matrix, row player is maximizer, coloumn player is minimizer.\n",
    "\n",
    "Reference: https://towardsdatascience.com/introduction-to-fictitious-play-12a8bc4ed1bb"
   ]
  },
  {
   "cell_type": "code",
   "execution_count": 31,
   "id": "cf79ffe6",
   "metadata": {},
   "outputs": [
    {
     "name": "stdout",
     "output_type": "stream",
     "text": [
      "Requirement already satisfied: pandas in /home/quantumiracle/anaconda3/envs/res/lib/python3.6/site-packages (1.1.5)\n",
      "Requirement already satisfied: python-dateutil>=2.7.3 in /home/quantumiracle/anaconda3/envs/res/lib/python3.6/site-packages (from pandas) (2.8.2)\n",
      "Requirement already satisfied: numpy>=1.15.4 in /home/quantumiracle/anaconda3/envs/res/lib/python3.6/site-packages (from pandas) (1.19.5)\n",
      "Requirement already satisfied: pytz>=2017.2 in /home/quantumiracle/anaconda3/envs/res/lib/python3.6/site-packages (from pandas) (2021.1)\n",
      "Requirement already satisfied: six>=1.5 in /home/quantumiracle/anaconda3/envs/res/lib/python3.6/site-packages (from python-dateutil>=2.7.3->pandas) (1.16.0)\n",
      "Game matrix: \n"
     ]
    },
    {
     "data": {
      "text/html": [
       "<div>\n",
       "<style scoped>\n",
       "    .dataframe tbody tr th:only-of-type {\n",
       "        vertical-align: middle;\n",
       "    }\n",
       "\n",
       "    .dataframe tbody tr th {\n",
       "        vertical-align: top;\n",
       "    }\n",
       "\n",
       "    .dataframe thead th {\n",
       "        text-align: right;\n",
       "    }\n",
       "</style>\n",
       "<table border=\"1\" class=\"dataframe\">\n",
       "  <thead>\n",
       "    <tr style=\"text-align: right;\">\n",
       "      <th></th>\n",
       "      <th>0</th>\n",
       "      <th>1</th>\n",
       "      <th>2</th>\n",
       "    </tr>\n",
       "  </thead>\n",
       "  <tbody>\n",
       "    <tr>\n",
       "      <th>0</th>\n",
       "      <td>0</td>\n",
       "      <td>2</td>\n",
       "      <td>-1</td>\n",
       "    </tr>\n",
       "    <tr>\n",
       "      <th>1</th>\n",
       "      <td>-1</td>\n",
       "      <td>0</td>\n",
       "      <td>1</td>\n",
       "    </tr>\n",
       "    <tr>\n",
       "      <th>2</th>\n",
       "      <td>1</td>\n",
       "      <td>-1</td>\n",
       "      <td>0</td>\n",
       "    </tr>\n",
       "  </tbody>\n",
       "</table>\n",
       "</div>"
      ],
      "text/plain": [
       "   0  1  2\n",
       "0  0  2 -1\n",
       "1 -1  0  1\n",
       "2  1 -1  0"
      ]
     },
     "execution_count": 31,
     "metadata": {},
     "output_type": "execute_result"
    }
   ],
   "source": [
    "import numpy as np\n",
    "! pip install pandas\n",
    "import pandas as pd\n",
    "# GameMatrix = np.array([[-2,3], [3,-4]])\n",
    "GameMatrix = np.array([[0,2,-1], [-1,0,1], [1,-1,0]])\n",
    "\n",
    "Itr = 10000\n",
    "print('Game matrix: ')\n",
    "pd.DataFrame(GameMatrix)\n"
   ]
  },
  {
   "cell_type": "code",
   "execution_count": 37,
   "id": "ad08c43a",
   "metadata": {},
   "outputs": [
    {
     "name": "stdout",
     "output_type": "stream",
     "text": [
      "For row player, strategy is [0.25   0.3332 0.4168], game value [lower bound, upper bound]: [0.0836 0.0832 0.0832]\n",
      "For column player, strategy is [0.3333 0.2499 0.4168], game value [lower bound, upper bound]: [0.083  0.0835 0.0834]\n"
     ]
    }
   ],
   "source": [
    "# a random initial step on row\n",
    "row_value = np.zeros(GameMatrix.shape[0])\n",
    "col_value = np.zeros(GameMatrix.shape[1])\n",
    "min_id_list, max_id_list = [], []\n",
    "\n",
    "for i in range(Itr):\n",
    "    # current l is row\n",
    "    min_id = np.argmin(row_value)\n",
    "    min_id_list.append(min_id)\n",
    "    l = GameMatrix[:, min_id] # l is column now\n",
    "    col_value += np.array(l)\n",
    "    \n",
    "    # current l is column\n",
    "    max_id = np.argmax(col_value)\n",
    "    max_id_list.append(max_id)\n",
    "    l = GameMatrix[max_id]  #  l is row now\n",
    "    row_value += np.array(l)\n",
    "    \n",
    "# The statistical frequencies of occurrence of different entries are just their probability masses in final policy,\n",
    "# which is the average best response over history.\n",
    "hist, _ = np.histogram(max_id_list, bins=GameMatrix.shape[0])\n",
    "max_policy = hist/np.sum(hist)\n",
    "hist, _ = np.histogram(min_id_list, bins=GameMatrix.shape[1])\n",
    "min_policy = hist/np.sum(hist)\n",
    "\n",
    "row_value = row_value / (i+1)\n",
    "col_value = col_value / (i+1)\n",
    "print(f'For row player, strategy is {max_policy}, game value [lower bound, upper bound]: {row_value}')\n",
    "print(f'For column player, strategy is {min_policy}, game value [lower bound, upper bound]: {col_value}')\n"
   ]
  },
  {
   "cell_type": "code",
   "execution_count": 39,
   "id": "4eccf812",
   "metadata": {},
   "outputs": [
    {
     "ename": "ValueError",
     "evalue": "not enough values to unpack (expected 2, got 1)",
     "output_type": "error",
     "traceback": [
      "\u001b[0;31m---------------------------------------------------------------------------\u001b[0m",
      "\u001b[0;31mValueError\u001b[0m                                Traceback (most recent call last)",
      "\u001b[0;32m<ipython-input-39-307110d1441b>\u001b[0m in \u001b[0;36m<module>\u001b[0;34m\u001b[0m\n\u001b[1;32m      1\u001b[0m \u001b[0ma\u001b[0m\u001b[0;34m=\u001b[0m\u001b[0;34m[\u001b[0m\u001b[0;36m1\u001b[0m\u001b[0;34m]\u001b[0m\u001b[0;34m\u001b[0m\u001b[0;34m\u001b[0m\u001b[0m\n\u001b[0;32m----> 2\u001b[0;31m \u001b[0mb\u001b[0m\u001b[0;34m,\u001b[0m\u001b[0mc\u001b[0m\u001b[0;34m=\u001b[0m\u001b[0ma\u001b[0m\u001b[0;34m\u001b[0m\u001b[0;34m\u001b[0m\u001b[0m\n\u001b[0m",
      "\u001b[0;31mValueError\u001b[0m: not enough values to unpack (expected 2, got 1)"
     ]
    }
   ],
   "source": [
    "a=[1]\n",
    "b,c=a"
   ]
  },
  {
   "cell_type": "code",
   "execution_count": null,
   "id": "8cfdd921",
   "metadata": {},
   "outputs": [],
   "source": []
  }
 ],
 "metadata": {
  "kernelspec": {
   "display_name": "Python 3",
   "language": "python",
   "name": "python3"
  },
  "language_info": {
   "codemirror_mode": {
    "name": "ipython",
    "version": 3
   },
   "file_extension": ".py",
   "mimetype": "text/x-python",
   "name": "python",
   "nbconvert_exporter": "python",
   "pygments_lexer": "ipython3",
   "version": "3.6.13"
  }
 },
 "nbformat": 4,
 "nbformat_minor": 5
}
