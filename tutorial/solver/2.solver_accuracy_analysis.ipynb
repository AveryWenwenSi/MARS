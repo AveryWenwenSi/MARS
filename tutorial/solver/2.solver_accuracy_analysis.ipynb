{
 "cells": [
  {
   "cell_type": "markdown",
   "metadata": {},
   "source": [
    "# Game Matrix Solver Accuracy Analysis\n",
    "This tutorial compares the accuracies of serveral Nash solvers for game matrix. "
   ]
  },
  {
   "cell_type": "code",
   "execution_count": 3,
   "metadata": {},
   "outputs": [
    {
     "name": "stdout",
     "output_type": "stream",
     "text": [
      "Game matrix: \n"
     ]
    },
    {
     "data": {
      "text/html": [
       "<div>\n",
       "<style scoped>\n",
       "    .dataframe tbody tr th:only-of-type {\n",
       "        vertical-align: middle;\n",
       "    }\n",
       "\n",
       "    .dataframe tbody tr th {\n",
       "        vertical-align: top;\n",
       "    }\n",
       "\n",
       "    .dataframe thead th {\n",
       "        text-align: right;\n",
       "    }\n",
       "</style>\n",
       "<table border=\"1\" class=\"dataframe\">\n",
       "  <thead>\n",
       "    <tr style=\"text-align: right;\">\n",
       "      <th></th>\n",
       "      <th>0</th>\n",
       "      <th>1</th>\n",
       "    </tr>\n",
       "  </thead>\n",
       "  <tbody>\n",
       "    <tr>\n",
       "      <th>0</th>\n",
       "      <td>2</td>\n",
       "      <td>1</td>\n",
       "    </tr>\n",
       "    <tr>\n",
       "      <th>1</th>\n",
       "      <td>1</td>\n",
       "      <td>1</td>\n",
       "    </tr>\n",
       "  </tbody>\n",
       "</table>\n",
       "</div>"
      ],
      "text/plain": [
       "   0  1\n",
       "0  2  1\n",
       "1  1  1"
      ]
     },
     "execution_count": 3,
     "metadata": {},
     "output_type": "execute_result"
    }
   ],
   "source": [
    "import numpy as np\n",
    "# ! pip install pandas\n",
    "import pandas as pd\n",
    "GameMatrix = np.array([[2,1], [1,1]])\n",
    "# GameMatrix = np.array([[0,2,-1], [-1,0,1], [1,-1,0]])\n",
    "\n",
    "NumAgents = 2\n",
    "\n",
    "print('Game matrix: ')\n",
    "pd.DataFrame(GameMatrix)\n"
   ]
  },
  {
   "cell_type": "code",
   "execution_count": 12,
   "metadata": {},
   "outputs": [
    {
     "name": "stdout",
     "output_type": "stream",
     "text": [
      "Nash strategies solved by two solvers: \n",
      "ECOS (array([0.5157873, 0.4842127]), array([3.28893813e-11, 1.00000000e+00])), \n",
      "MWU [[0.61388123 0.38611877]\n",
      " [0.27438053 0.72561947]]\n"
     ]
    }
   ],
   "source": [
    "import sys\n",
    "sys.path.append(\"../..\")  # get mars folder\n",
    "from mars.equilibrium_solver import NashEquilibriumECOSSolver, NashEquilibriumMWUSolver\n",
    "\n",
    "ne_ecos, ne_value_ecos = NashEquilibriumECOSSolver(GameMatrix)\n",
    "ne_mwu, ne_value_mwu = NashEquilibriumMWUSolver(GameMatrix, Itr=10)\n",
    "print(f\"Nash strategies solved by two solvers: \\nECOS {ne_ecos}, \\nMWU {ne_mwu}\")\n"
   ]
  },
  {
   "cell_type": "code",
   "execution_count": 23,
   "metadata": {},
   "outputs": [],
   "source": [
    "import numpy as np\n",
    "\n",
    "def kl(p, q):\n",
    "    \"\"\"Kullback-Leibler divergence D(P || Q) for discrete distributions\n",
    "    Parameters\n",
    "    ----------\n",
    "    p, q : array-like, dtype=float, shape=n\n",
    "    Discrete probability distributions.\n",
    "    \"\"\"\n",
    "    p = np.asarray(p, dtype=np.float)\n",
    "    q = np.asarray(q, dtype=np.float)\n",
    "\n",
    "    return np.sum(np.where(p != 0, p * np.log(p / q), 0))\n",
    "\n",
    "def random_game_matrix(dim, number=1):\n",
    "    \"\"\" retrun dim*dim uniform payoff matrix for max player.\"\"\"    \n",
    "    rand_matrices = np.random.uniform(-1,1, size=(number, dim, dim))\n",
    "    print(rand_matrices.shape)\n",
    "    return rand_matrices\n",
    "\n",
    "\n",
    "def compare_solvers(mwu_itr=10):\n",
    "    number_tests = 100\n",
    "    dim = 3 # number of actions per player\n",
    "\n",
    "    test_matrices = random_game_matrix(dim, number_tests)\n",
    "    avg_kl = []\n",
    "    for matrix in test_matrices:\n",
    "        ne_ecos, ne_value_ecos = NashEquilibriumECOSSolver(matrix)\n",
    "        ne_mwu, ne_value_mwu = NashEquilibriumMWUSolver(matrix, Itr=mwu_itr)\n",
    "        players_kl = []\n",
    "        for ecos_pi, mwu_pi in zip(ne_ecos, ne_mwu):\n",
    "            players_kl.append(kl(ecos_pi, mwu_pi))\n",
    "        avg_kl.append(np.mean(players_kl))  # average over two players\n",
    "\n",
    "    print(f'avg. kl: {np.mean(avg_kl)}')\n",
    "    return np.mean(avg_kl)\n",
    "\n"
   ]
  },
  {
   "cell_type": "code",
   "execution_count": 28,
   "metadata": {},
   "outputs": [
    {
     "name": "stdout",
     "output_type": "stream",
     "text": [
      "(100, 3, 3)\n",
      "avg. kl: 0.3153454932292874\n",
      "(100, 3, 3)\n"
     ]
    },
    {
     "name": "stderr",
     "output_type": "stream",
     "text": [
      "/home/quantumiracle/anaconda3/envs/x/lib/python3.7/site-packages/ecos/ecos.py:26: UserWarning: Converting G to a CSC matrix; may take a while.\n",
      "  warn(\"Converting G to a CSC matrix; may take a while.\")\n",
      "/home/quantumiracle/anaconda3/envs/x/lib/python3.7/site-packages/ecos/ecos.py:29: UserWarning: Converting A to a CSC matrix; may take a while.\n",
      "  warn(\"Converting A to a CSC matrix; may take a while.\")\n"
     ]
    },
    {
     "name": "stdout",
     "output_type": "stream",
     "text": [
      "avg. kl: 0.24273195606061798\n",
      "(100, 3, 3)\n",
      "avg. kl: 0.18977591235526436\n",
      "(100, 3, 3)\n",
      "avg. kl: 0.21222107642721327\n",
      "(100, 3, 3)\n",
      "avg. kl: 0.18629252904609087\n",
      "(100, 3, 3)\n",
      "avg. kl: 0.16772361551717624\n",
      "(100, 3, 3)\n",
      "avg. kl: 0.1472436045929428\n",
      "(100, 3, 3)\n",
      "avg. kl: 0.1393765223606579\n",
      "(100, 3, 3)\n",
      "avg. kl: 0.14065138089769805\n"
     ]
    },
    {
     "data": {
      "image/png": "[encoded data removed]",
      "text/plain": [
       "<Figure size 432x288 with 1 Axes>"
      ]
     },
     "metadata": {
      "needs_background": "light"
     },
     "output_type": "display_data"
    }
   ],
   "source": [
    "# MWU solver with different iterations\n",
    "# evaluated by KL divergence of nash strategies by MWU and ECOS (as oracle)\n",
    "import matplotlib.pyplot as plt\n",
    "\n",
    "kl_list = []\n",
    "itr_list = []\n",
    "for i in range(1, 10):\n",
    "    itr = i*50\n",
    "    itr_list.append(itr)\n",
    "    kl_list.append(compare_solvers(itr))\n",
    "\n",
    "# for itr in [500, 1000]:\n",
    "#     itr_list.append(itr)\n",
    "#     kl_list.append(compare_solvers(itr))\n",
    "plt.title('MWU')\n",
    "plt.xlabel('solving iteration')\n",
    "plt.ylabel('KL')\n",
    "plt.plot(itr_list,kl_list)\n",
    "plt.savefig('mwu_different_itr.png')\n"
   ]
  },
  {
   "cell_type": "code",
   "execution_count": null,
   "metadata": {},
   "outputs": [],
   "source": []
  }
 ],
 "metadata": {
  "interpreter": {
   "hash": "28c6861e59928cb790236f7047915368f37afc12f670e78fd0101a6f825a02b1"
  },
  "kernelspec": {
   "display_name": "Python 3.7.0 64-bit ('x': conda)",
   "name": "python3"
  },
  "language_info": {
   "codemirror_mode": {
    "name": "ipython",
    "version": 3
   },
   "file_extension": ".py",
   "mimetype": "text/x-python",
   "name": "python",
   "nbconvert_exporter": "python",
   "pygments_lexer": "ipython3",
   "version": "3.7.0"
  },
  "toc": {
   "base_numbering": 1,
   "nav_menu": {},
   "number_sections": true,
   "sideBar": true,
   "skip_h1_title": false,
   "title_cell": "Table of Contents",
   "title_sidebar": "Contents",
   "toc_cell": false,
   "toc_position": {},
   "toc_section_display": true,
   "toc_window_display": false
  }
 },
 "nbformat": 4,
 "nbformat_minor": 5
}
