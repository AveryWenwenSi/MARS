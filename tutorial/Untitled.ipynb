{
 "cells": [
  {
   "cell_type": "code",
   "execution_count": 2,
   "metadata": {},
   "outputs": [
    {
     "name": "stdout",
     "output_type": "stream",
     "text": [
      "Collecting blackhc.mdp\n",
      "  Downloading https://files.pythonhosted.org/packages/5f/d8/a6c4e3c1ac85662a0250f681b85f6d7f0efd7a36327396865059e325ba70/blackhc.mdp-1.0.6-py3-none-any.whl\n",
      "Requirement already satisfied: matplotlib in /home/quantumiracle/.conda/envs/robo/lib/python3.6/site-packages (from blackhc.mdp) (3.0.3)\n",
      "Requirement already satisfied: ipywidgets in /home/quantumiracle/.conda/envs/robo/lib/python3.6/site-packages (from blackhc.mdp) (7.5.1)\n",
      "Requirement already satisfied: ipython>=6.1.0 in /home/quantumiracle/.local/lib/python3.6/site-packages (from blackhc.mdp) (7.6.1)\n",
      "Requirement already satisfied: gym>=0.9.2 in /home/quantumiracle/.conda/envs/robo/lib/python3.6/site-packages (from blackhc.mdp) (0.18.0)\n",
      "Collecting networkx<2.0.0,>=1.11.0\n",
      "\u001b[?25l  Downloading https://files.pythonhosted.org/packages/d3/2c/e473e54afc9fae58dfa97066ef6709a7e35a1dd1c28c5a3842989322be00/networkx-1.11-py2.py3-none-any.whl (1.3MB)\n",
      "\u001b[K     |████████████████████████████████| 1.3MB 5.8MB/s eta 0:00:01\n",
      "\u001b[?25hCollecting typing\n",
      "\u001b[?25l  Downloading https://files.pythonhosted.org/packages/05/d9/6eebe19d46bd05360c9a9aae822e67a80f9242aabbfc58b641b957546607/typing-3.7.4.3.tar.gz (78kB)\n",
      "\u001b[K     |████████████████████████████████| 81kB 1.1MB/s  eta 0:00:01\n",
      "\u001b[?25hCollecting pydotplus\n",
      "\u001b[?25l  Downloading https://files.pythonhosted.org/packages/60/bf/62567830b700d9f6930e9ab6831d6ba256f7b0b730acb37278b0ccdffacf/pydotplus-2.0.2.tar.gz (278kB)\n",
      "\u001b[K     |████████████████████████████████| 286kB 18.6MB/s eta 0:00:01\n",
      "\u001b[?25hRequirement already satisfied: numpy in /home/quantumiracle/.conda/envs/robo/lib/python3.6/site-packages (from blackhc.mdp) (1.18.1)\n",
      "Requirement already satisfied: python-dateutil>=2.1 in /home/quantumiracle/.conda/envs/robo/lib/python3.6/site-packages (from matplotlib->blackhc.mdp) (2.8.1)\n",
      "Requirement already satisfied: cycler>=0.10 in /home/quantumiracle/.local/lib/python3.6/site-packages (from matplotlib->blackhc.mdp) (0.10.0)\n",
      "Requirement already satisfied: kiwisolver>=1.0.1 in /home/quantumiracle/.local/lib/python3.6/site-packages (from matplotlib->blackhc.mdp) (1.1.0)\n",
      "Requirement already satisfied: pyparsing!=2.0.4,!=2.1.2,!=2.1.6,>=2.0.1 in /home/quantumiracle/.conda/envs/robo/lib/python3.6/site-packages (from matplotlib->blackhc.mdp) (2.4.0)\n",
      "Requirement already satisfied: traitlets>=4.3.1 in /home/quantumiracle/.local/lib/python3.6/site-packages (from ipywidgets->blackhc.mdp) (4.3.2)\n",
      "Requirement already satisfied: ipykernel>=4.5.1 in /home/quantumiracle/.local/lib/python3.6/site-packages (from ipywidgets->blackhc.mdp) (5.1.1)\n",
      "Requirement already satisfied: nbformat>=4.2.0 in /home/quantumiracle/.local/lib/python3.6/site-packages (from ipywidgets->blackhc.mdp) (4.4.0)\n",
      "Requirement already satisfied: widgetsnbextension~=3.5.0 in /home/quantumiracle/.local/lib/python3.6/site-packages (from ipywidgets->blackhc.mdp) (3.5.0)\n",
      "Requirement already satisfied: prompt-toolkit<2.1.0,>=2.0.0 in /home/quantumiracle/.local/lib/python3.6/site-packages (from ipython>=6.1.0->blackhc.mdp) (2.0.9)\n",
      "Requirement already satisfied: pexpect; sys_platform != \"win32\" in /home/quantumiracle/.local/lib/python3.6/site-packages (from ipython>=6.1.0->blackhc.mdp) (4.7.0)\n",
      "Requirement already satisfied: backcall in /home/quantumiracle/.local/lib/python3.6/site-packages (from ipython>=6.1.0->blackhc.mdp) (0.1.0)\n",
      "Requirement already satisfied: jedi>=0.10 in /home/quantumiracle/.local/lib/python3.6/site-packages (from ipython>=6.1.0->blackhc.mdp) (0.14.1)\n",
      "Requirement already satisfied: setuptools>=18.5 in /home/quantumiracle/.local/lib/python3.6/site-packages (from ipython>=6.1.0->blackhc.mdp) (58.0.4)\n",
      "Requirement already satisfied: decorator in /home/quantumiracle/.conda/envs/robo/lib/python3.6/site-packages (from ipython>=6.1.0->blackhc.mdp) (4.4.1)\n",
      "Requirement already satisfied: pickleshare in /home/quantumiracle/.local/lib/python3.6/site-packages (from ipython>=6.1.0->blackhc.mdp) (0.7.5)\n",
      "Requirement already satisfied: pygments in /home/quantumiracle/.local/lib/python3.6/site-packages (from ipython>=6.1.0->blackhc.mdp) (2.6.1)\n",
      "Requirement already satisfied: Pillow<=7.2.0 in /home/quantumiracle/.conda/envs/robo/lib/python3.6/site-packages (from gym>=0.9.2->blackhc.mdp) (5.4.1)\n",
      "Requirement already satisfied: scipy in /home/quantumiracle/.conda/envs/robo/lib/python3.6/site-packages (from gym>=0.9.2->blackhc.mdp) (1.2.1)\n",
      "Requirement already satisfied: cloudpickle<1.7.0,>=1.2.0 in /home/quantumiracle/.conda/envs/robo/lib/python3.6/site-packages (from gym>=0.9.2->blackhc.mdp) (1.2.1)\n",
      "Requirement already satisfied: pyglet<=1.5.0,>=1.4.0 in /home/quantumiracle/.conda/envs/robo/lib/python3.6/site-packages (from gym>=0.9.2->blackhc.mdp) (1.5.0)\n",
      "Requirement already satisfied: six>=1.5 in /home/quantumiracle/.local/lib/python3.6/site-packages (from python-dateutil>=2.1->matplotlib->blackhc.mdp) (1.16.0)\n",
      "Requirement already satisfied: ipython-genutils in /home/quantumiracle/.local/lib/python3.6/site-packages (from traitlets>=4.3.1->ipywidgets->blackhc.mdp) (0.2.0)\n",
      "Requirement already satisfied: tornado>=4.2 in /home/quantumiracle/.local/lib/python3.6/site-packages (from ipykernel>=4.5.1->ipywidgets->blackhc.mdp) (6.1)\n",
      "Requirement already satisfied: jupyter-client in /home/quantumiracle/.local/lib/python3.6/site-packages (from ipykernel>=4.5.1->ipywidgets->blackhc.mdp) (5.3.1)\n",
      "Requirement already satisfied: jsonschema!=2.5.0,>=2.4 in /home/quantumiracle/.local/lib/python3.6/site-packages (from nbformat>=4.2.0->ipywidgets->blackhc.mdp) (3.0.1)\n",
      "Requirement already satisfied: jupyter-core in /home/quantumiracle/.local/lib/python3.6/site-packages (from nbformat>=4.2.0->ipywidgets->blackhc.mdp) (4.5.0)\n",
      "Requirement already satisfied: notebook>=4.4.1 in /home/quantumiracle/.local/lib/python3.6/site-packages (from widgetsnbextension~=3.5.0->ipywidgets->blackhc.mdp) (6.0.0)\n",
      "Requirement already satisfied: wcwidth in /home/quantumiracle/.local/lib/python3.6/site-packages (from prompt-toolkit<2.1.0,>=2.0.0->ipython>=6.1.0->blackhc.mdp) (0.1.7)\n",
      "Requirement already satisfied: ptyprocess>=0.5 in /home/quantumiracle/.local/lib/python3.6/site-packages (from pexpect; sys_platform != \"win32\"->ipython>=6.1.0->blackhc.mdp) (0.6.0)\n",
      "Requirement already satisfied: parso>=0.5.0 in /home/quantumiracle/.local/lib/python3.6/site-packages (from jedi>=0.10->ipython>=6.1.0->blackhc.mdp) (0.5.1)\n",
      "Requirement already satisfied: future in /home/quantumiracle/.conda/envs/robo/lib/python3.6/site-packages (from pyglet<=1.5.0,>=1.4.0->gym>=0.9.2->blackhc.mdp) (0.17.1)\n",
      "Requirement already satisfied: pyzmq>=13 in /home/quantumiracle/.local/lib/python3.6/site-packages (from jupyter-client->ipykernel>=4.5.1->ipywidgets->blackhc.mdp) (18.0.2)\n",
      "Requirement already satisfied: pyrsistent>=0.14.0 in /home/quantumiracle/.local/lib/python3.6/site-packages (from jsonschema!=2.5.0,>=2.4->nbformat>=4.2.0->ipywidgets->blackhc.mdp) (0.15.3)\n",
      "Requirement already satisfied: attrs>=17.4.0 in /home/quantumiracle/.local/lib/python3.6/site-packages (from jsonschema!=2.5.0,>=2.4->nbformat>=4.2.0->ipywidgets->blackhc.mdp) (19.1.0)\n",
      "Requirement already satisfied: jinja2 in /home/quantumiracle/.local/lib/python3.6/site-packages (from notebook>=4.4.1->widgetsnbextension~=3.5.0->ipywidgets->blackhc.mdp) (2.10.1)\n",
      "Requirement already satisfied: prometheus-client in /home/quantumiracle/.local/lib/python3.6/site-packages (from notebook>=4.4.1->widgetsnbextension~=3.5.0->ipywidgets->blackhc.mdp) (0.7.1)\n",
      "Requirement already satisfied: nbconvert in /home/quantumiracle/.local/lib/python3.6/site-packages (from notebook>=4.4.1->widgetsnbextension~=3.5.0->ipywidgets->blackhc.mdp) (5.5.0)\n",
      "Requirement already satisfied: Send2Trash in /home/quantumiracle/.local/lib/python3.6/site-packages (from notebook>=4.4.1->widgetsnbextension~=3.5.0->ipywidgets->blackhc.mdp) (1.5.0)\n",
      "Requirement already satisfied: terminado>=0.8.1 in /home/quantumiracle/.local/lib/python3.6/site-packages (from notebook>=4.4.1->widgetsnbextension~=3.5.0->ipywidgets->blackhc.mdp) (0.8.2)\n",
      "Requirement already satisfied: MarkupSafe>=0.23 in /home/quantumiracle/.local/lib/python3.6/site-packages (from jinja2->notebook>=4.4.1->widgetsnbextension~=3.5.0->ipywidgets->blackhc.mdp) (1.1.1)\n",
      "Requirement already satisfied: mistune>=0.8.1 in /home/quantumiracle/.local/lib/python3.6/site-packages (from nbconvert->notebook>=4.4.1->widgetsnbextension~=3.5.0->ipywidgets->blackhc.mdp) (0.8.4)\n",
      "Requirement already satisfied: bleach in /home/quantumiracle/.conda/envs/robo/lib/python3.6/site-packages (from nbconvert->notebook>=4.4.1->widgetsnbextension~=3.5.0->ipywidgets->blackhc.mdp) (3.1.0)\n"
     ]
    },
    {
     "name": "stdout",
     "output_type": "stream",
     "text": [
      "Requirement already satisfied: pandocfilters>=1.4.1 in /home/quantumiracle/.local/lib/python3.6/site-packages (from nbconvert->notebook>=4.4.1->widgetsnbextension~=3.5.0->ipywidgets->blackhc.mdp) (1.4.2)\n",
      "Requirement already satisfied: defusedxml in /home/quantumiracle/.local/lib/python3.6/site-packages (from nbconvert->notebook>=4.4.1->widgetsnbextension~=3.5.0->ipywidgets->blackhc.mdp) (0.6.0)\n",
      "Requirement already satisfied: entrypoints>=0.2.2 in /home/quantumiracle/.local/lib/python3.6/site-packages (from nbconvert->notebook>=4.4.1->widgetsnbextension~=3.5.0->ipywidgets->blackhc.mdp) (0.3)\n",
      "Requirement already satisfied: testpath in /home/quantumiracle/.local/lib/python3.6/site-packages (from nbconvert->notebook>=4.4.1->widgetsnbextension~=3.5.0->ipywidgets->blackhc.mdp) (0.4.2)\n",
      "Requirement already satisfied: webencodings in /home/quantumiracle/.local/lib/python3.6/site-packages (from bleach->nbconvert->notebook>=4.4.1->widgetsnbextension~=3.5.0->ipywidgets->blackhc.mdp) (0.5.1)\n",
      "Building wheels for collected packages: typing, pydotplus\n",
      "  Building wheel for typing (setup.py) ... \u001b[?25ldone\n",
      "\u001b[?25h  Created wheel for typing: filename=typing-3.7.4.3-cp36-none-any.whl size=26323 sha256=cc9adf396eea04614a6f785eff760319c20d71dd3058dbcbec22368a3ebd8db1\n",
      "  Stored in directory: /home/quantumiracle/.cache/pip/wheels/2d/04/41/8e1836e79581989c22eebac3f4e70aaac9af07b0908da173be\n",
      "  Building wheel for pydotplus (setup.py) ... \u001b[?25ldone\n",
      "\u001b[?25h  Created wheel for pydotplus: filename=pydotplus-2.0.2-cp36-none-any.whl size=24577 sha256=38606fe29bbb57864c432fde46f59f441ee51f39dd23145c4b220b5903324527\n",
      "  Stored in directory: /home/quantumiracle/.cache/pip/wheels/35/7b/ab/66fb7b2ac1f6df87475b09dc48e707b6e0de80a6d8444e3628\n",
      "Successfully built typing pydotplus\n",
      "\u001b[31mERROR: scikit-image 0.16.2 has requirement networkx>=2.0, but you'll have networkx 1.11 which is incompatible.\u001b[0m\n",
      "Installing collected packages: networkx, typing, pydotplus, blackhc.mdp\n",
      "  Found existing installation: networkx 2.4\n",
      "    Uninstalling networkx-2.4:\n",
      "      Successfully uninstalled networkx-2.4\n",
      "Successfully installed blackhc.mdp-1.0.6 networkx-1.11 pydotplus-2.0.2 typing-3.7.4.3\n",
      "\u001b[33mWARNING: You are using pip version 19.3.1; however, version 21.2.4 is available.\n",
      "You should consider upgrading via the 'pip install --upgrade pip' command.\u001b[0m\n"
     ]
    }
   ],
   "source": [
    "! pip install blackhc.mdp\n",
    "from blackhc import mdp"
   ]
  },
  {
   "cell_type": "code",
   "execution_count": 8,
   "metadata": {},
   "outputs": [
    {
     "name": "stdout",
     "output_type": "stream",
     "text": [
      "[Action(RR, 0), Action(LR, 1), Action(AR, 2), Action(BR, 3), Action(RL, 4), Action(LL, 5), Action(AL, 6), Action(BL, 7), Action(RA, 8), Action(LA, 9), Action(AA, 10), Action(BA, 11), Action(RB, 12), Action(LB, 13), Action(AB, 14), Action(BB, 15)]\n"
     ]
    }
   ],
   "source": [
    "spec = mdp.MDPSpec()\n",
    "s0 = spec.state('start')\n",
    "s1 = spec.state('start')\n",
    "s2 = spec.state('start')\n",
    "\n",
    "end = spec.state('end', terminal_state=True)\n",
    "\n",
    "action_set = ['R', 'L', 'A', 'B']\n",
    "num_actions = len(action_set)\n",
    "num_agents = 2\n",
    "actions = []\n",
    "for i in range(num_actions):\n",
    "    for j in range(num_actions):\n",
    "        actions.append(spec.action(action_set[j]+action_set[i]))\n",
    "print(actions)\n",
    "\n",
    "\n",
    "\n",
    "spec.transition(start, action_0, mdp.NextState(end))\n",
    "spec.transition(start, action_1, mdp.NextState(end))\n",
    "spec.transition(start, action_1, mdp.Reward(1))"
   ]
  },
  {
   "cell_type": "code",
   "execution_count": 6,
   "metadata": {},
   "outputs": [],
   "source": [
    "spec = mdp.MDPSpec()\n",
    "start = spec.state('start')\n",
    "end = spec.state('end', terminal_state=True)\n",
    "action_0 = spec.action('a')\n",
    "action_1 = spec.action()\n",
    "\n",
    "spec.transition(start, action_0, mdp.NextState(end))\n",
    "spec.transition(start, action_1, mdp.NextState(end))\n",
    "spec.transition(start, action_1, mdp.Reward(1))"
   ]
  },
  {
   "cell_type": "code",
   "execution_count": 7,
   "metadata": {},
   "outputs": [
    {
     "data": {
      "image/png": "[encoded data removed]",
      "text/plain": [
       "<IPython.core.display.Image object>"
      ]
     },
     "metadata": {},
     "output_type": "display_data"
    }
   ],
   "source": [
    "spec_graph = spec.to_graph()\n",
    "spec_png = mdp.graph_to_png(spec_graph)\n",
    "\n",
    "mdp.display_mdp(spec)"
   ]
  },
  {
   "cell_type": "code",
   "execution_count": null,
   "metadata": {},
   "outputs": [],
   "source": []
  }
 ],
 "metadata": {
  "kernelspec": {
   "display_name": "Python 3",
   "language": "python",
   "name": "python3"
  },
  "toc": {
   "base_numbering": 1,
   "nav_menu": {},
   "number_sections": true,
   "sideBar": true,
   "skip_h1_title": false,
   "title_cell": "Table of Contents",
   "title_sidebar": "Contents",
   "toc_cell": false,
   "toc_position": {},
   "toc_section_display": true,
   "toc_window_display": false
  }
 },
 "nbformat": 4,
 "nbformat_minor": 2
}
