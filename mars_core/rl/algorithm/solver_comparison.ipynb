{
 "cells": [
  {
   "cell_type": "markdown",
   "source": [
    "# Compare different Nash equilibrium solvers\n",
    "1. time\n",
    "2. success rate"
   ],
   "metadata": {}
  },
  {
   "cell_type": "code",
   "execution_count": 1,
   "source": [
    "from equilibrium_solver import *\n",
    "\n",
    "solvers = [NashEquilibriaSolver, NashEquilibriumSolver, NashEquilibriumLPSolver, NashEquilibriumCVXPYSolver, NashEquilibriumGUROBISolver, NashEquilibriumECOSSolver, NashEquilibriumMWUSolver]\n",
    "print(solvers)\n"
   ],
   "outputs": [
    {
     "output_type": "stream",
     "name": "stdout",
     "text": [
      "[<function NashEquilibriaSolver at 0x7f861549b9d8>, <function NashEquilibriumSolver at 0x7f85c80479d8>, <function NashEquilibriumLPSolver at 0x7f85c8047ae8>, <function NashEquilibriumCVXPYSolver at 0x7f861b483158>, <function NashEquilibriumGUROBISolver at 0x7f861b49dd08>, <function NashEquilibriumECOSSolver at 0x7f85c70521e0>, <function NashEquilibriumMWUSolver at 0x7f85c7052268>]\n"
     ]
    }
   ],
   "metadata": {}
  },
  {
   "cell_type": "code",
   "execution_count": 7,
   "source": [
    "import numpy as np\n",
    "import time\n",
    "itr = 1\n",
    "matrix_size = (6, 6)\n",
    "t_list=[]\n",
    "fail_list=[]\n",
    "# generate random matrices for test\n",
    "rand_matrices=[np.array(np.random.uniform(-1, 1, matrix_size)) for _ in range(itr)]\n",
    "\n",
    "for solver in solvers:\n",
    "    t0 = time.time()\n",
    "    fail = 0.\n",
    "    for i in range(itr):\n",
    "        # print(i)\n",
    "        try:\n",
    "            solver(rand_matrices[i])\n",
    "        except:  # TODO this is not accurate since sometimes it returns wrong results but no error\n",
    "            # print(rand_matrices[i])\n",
    "            fail+=1\n",
    "    t1=time.time()\n",
    "    t_list.append((t1-t0)/itr)\n",
    "    fail_list.append(fail/itr)\n",
    "\n",
    "for solver, time, fail in zip(solvers, t_list, fail_list):\n",
    "    print(f\"{solver.__name__}, time per matrix: {time}, failure rate: {fail}.\")"
   ],
   "outputs": [
    {
     "output_type": "stream",
     "name": "stdout",
     "text": [
      "NashEquilibriaSolver, time per matrix: 0.3936302661895752, failure rate: 0.0.\n",
      "NashEquilibriumSolver, time per matrix: 0.0009214878082275391, failure rate: 0.0.\n",
      "NashEquilibriumLPSolver, time per matrix: 0.018384933471679688, failure rate: 0.0.\n",
      "NashEquilibriumCVXPYSolver, time per matrix: 0.00593113899230957, failure rate: 0.0.\n",
      "NashEquilibriumGUROBISolver, time per matrix: 0.0012664794921875, failure rate: 1.0.\n",
      "NashEquilibriumECOSSolver, time per matrix: 0.0007526874542236328, failure rate: 0.0.\n",
      "NashEquilibriumMWUSolver, time per matrix: 0.04074239730834961, failure rate: 0.0.\n"
     ]
    },
    {
     "output_type": "stream",
     "name": "stderr",
     "text": [
      "/home/quantumiracle/anaconda3/envs/res/lib/python3.6/site-packages/pulp/pulp.py:1711: UserWarning: Overwriting previously set objective.\n",
      "  warnings.warn(\"Overwriting previously set objective.\")\n",
      "/home/quantumiracle/anaconda3/envs/res/lib/python3.6/site-packages/ecos/ecos.py:26: UserWarning: Converting G to a CSC matrix; may take a while.\n",
      "  warn(\"Converting G to a CSC matrix; may take a while.\")\n",
      "/home/quantumiracle/anaconda3/envs/res/lib/python3.6/site-packages/ecos/ecos.py:29: UserWarning: Converting A to a CSC matrix; may take a while.\n",
      "  warn(\"Converting A to a CSC matrix; may take a while.\")\n"
     ]
    }
   ],
   "metadata": {}
  },
  {
   "cell_type": "code",
   "execution_count": 14,
   "source": [
    "# Gurobi solver does not work in all cases\n",
    "import numpy as np\n",
    "matrix_size = (6, 6)\n",
    "# a=np.array([[ 0.036,  0.023,  0.042,  0.001, -0.002, -0.029],\n",
    "#  [ 0.031, -0.026,  0.062, -0.034,  0.017, -0.043],\n",
    "#  [ 0.004, -0.011, -0.026, -0.066, -0.008, -0.031],\n",
    "#  [-0.03,  -0.032,  0.032, -0.026,  0.01,   0.001],\n",
    "#  [-0.009,  0.042,  0.047, -0.023, -0.03,  -0.001],\n",
    "#  [ 0.024,  0.034,  0.017,  0.017, -0.043, -0.061]])\n",
    "# print(np.linalg.det(a))\n",
    "a=np.array([[95, 97], [97, 97]])\n",
    "NashEquilibriumGUROBISolver(a)\n",
    "\n",
    "for i in range(20):\n",
    "    print(i)\n",
    "    a=np.array(np.random.uniform(-1, 1, matrix_size))\n",
    "    print(np.linalg.det(a))\n",
    "    NashEquilibriumGUROBISolver(a)"
   ],
   "outputs": [
    {
     "output_type": "execute_result",
     "data": {
      "text/plain": [
       "([0.0, 1.0], [1.0, 0.0])"
      ]
     },
     "metadata": {},
     "execution_count": 14
    }
   ],
   "metadata": {}
  },
  {
   "cell_type": "code",
   "execution_count": null,
   "source": [],
   "outputs": [],
   "metadata": {}
  }
 ],
 "metadata": {
  "kernelspec": {
   "name": "python3",
   "display_name": "Python 3.6.13 64-bit ('res': conda)"
  },
  "language_info": {
   "codemirror_mode": {
    "name": "ipython",
    "version": 3
   },
   "file_extension": ".py",
   "mimetype": "text/x-python",
   "name": "python",
   "nbconvert_exporter": "python",
   "pygments_lexer": "ipython3",
   "version": "3.6.13"
  },
  "toc": {
   "base_numbering": 1,
   "nav_menu": {},
   "number_sections": true,
   "sideBar": true,
   "skip_h1_title": false,
   "title_cell": "Table of Contents",
   "title_sidebar": "Contents",
   "toc_cell": false,
   "toc_position": {},
   "toc_section_display": true,
   "toc_window_display": false
  },
  "interpreter": {
   "hash": "230862b98d5539ea4f6edff4f834846d7aac25a9878478a73da403f7aa963d5d"
  }
 },
 "nbformat": 4,
 "nbformat_minor": 2
}