{
 "cells": [
  {
   "cell_type": "markdown",
   "source": [
    "# Compare different Nash equilibrium solvers\n",
    "1. time\n",
    "2. success rate"
   ],
   "metadata": {}
  },
  {
   "cell_type": "code",
   "execution_count": 1,
   "source": [
    "from equilibrium_solver import *\n",
    "\n",
    "# solvers = [NashEquilibriaSolver, NashEquilibriumSolver, NashEquilibriumLPSolver, NashEquilibriumCVXPYSolver, NashEquilibriumGUROBISolver, NashEquilibriumECOSSolver, NashEquilibriumMWUSolver]\n",
    "solvers = [NashEquilibriumECOSSolver, NashEquilibriumMWUSolver, NashEquilibriumParallelMWUSolver]\n",
    "print(solvers)\n"
   ],
   "outputs": [
    {
     "output_type": "stream",
     "name": "stdout",
     "text": [
      "[<function NashEquilibriumECOSSolver at 0x7fea879a5d90>, <function NashEquilibriumMWUSolver at 0x7fea879a5ea0>, <function NashEquilibriumParallelMWUSolver at 0x7fea879a5f28>]\n"
     ]
    }
   ],
   "metadata": {}
  },
  {
   "cell_type": "code",
   "execution_count": 3,
   "source": [
    "import numpy as np\n",
    "import time\n",
    "itr = 10\n",
    "size = 6\n",
    "matrix_size = (size, size)\n",
    "t_list=[]\n",
    "fail_list=[]\n",
    "# generate random matrices for test\n",
    "rand_matrices=[np.array(np.random.uniform(-1, 1, matrix_size)) for _ in range(itr)]\n",
    "\n",
    "for solver in solvers:\n",
    "    if solver.__name__ != 'NashEquilibriumParallelMWUSolver':\n",
    "        t0 = time.time()\n",
    "        fail = 0.\n",
    "        for i in range(itr):\n",
    "            # print(i)\n",
    "            try:\n",
    "                solver(rand_matrices[i])\n",
    "            except:  # TODO this is not accurate since sometimes it returns wrong results but no error\n",
    "                # print(rand_matrices[i])\n",
    "                fail+=1\n",
    "        t1=time.time()\n",
    "        t_list.append((t1-t0)/itr)\n",
    "        fail_list.append(fail/itr)\n",
    "    else:\n",
    "        t0 = time.time()\n",
    "        solver(rand_matrices)  # solve multiple matrices at once\n",
    "        t1=time.time()\n",
    "        t_list.append((t1-t0)/itr)\n",
    "        fail_list.append(0.)\n",
    "\n",
    "for solver, time, fail in zip(solvers, t_list, fail_list):\n",
    "    print(f\"{solver.__name__}, time per matrix: {time}, failure rate: {fail}.\")"
   ],
   "outputs": [
    {
     "output_type": "stream",
     "name": "stdout",
     "text": [
      "NashEquilibriumECOSSolver, time per matrix: 0.0006407976150512695, failure rate: 0.0.\n",
      "NashEquilibriumMWUSolver, time per matrix: 0.002820324897766113, failure rate: 0.0.\n",
      "NashEquilibriumParallelMWUSolver, time per matrix: 0.00045282840728759765, failure rate: 0.0.\n"
     ]
    }
   ],
   "metadata": {}
  },
  {
   "cell_type": "code",
   "execution_count": 14,
   "source": [
    "# Gurobi solver does not work in all cases\n",
    "import numpy as np\n",
    "matrix_size = (6, 6)\n",
    "# a=np.array([[ 0.036,  0.023,  0.042,  0.001, -0.002, -0.029],\n",
    "#  [ 0.031, -0.026,  0.062, -0.034,  0.017, -0.043],\n",
    "#  [ 0.004, -0.011, -0.026, -0.066, -0.008, -0.031],\n",
    "#  [-0.03,  -0.032,  0.032, -0.026,  0.01,   0.001],\n",
    "#  [-0.009,  0.042,  0.047, -0.023, -0.03,  -0.001],\n",
    "#  [ 0.024,  0.034,  0.017,  0.017, -0.043, -0.061]])\n",
    "# print(np.linalg.det(a))\n",
    "a=np.array([[95, 97], [97, 97]])\n",
    "NashEquilibriumGUROBISolver(a)\n",
    "\n",
    "for i in range(20):\n",
    "    print(i)\n",
    "    a=np.array(np.random.uniform(-1, 1, matrix_size))\n",
    "    print(np.linalg.det(a))\n",
    "    NashEquilibriumGUROBISolver(a)"
   ],
   "outputs": [
    {
     "output_type": "execute_result",
     "data": {
      "text/plain": [
       "([0.0, 1.0], [1.0, 0.0])"
      ]
     },
     "metadata": {},
     "execution_count": 14
    }
   ],
   "metadata": {}
  },
  {
   "cell_type": "code",
   "execution_count": null,
   "source": [],
   "outputs": [],
   "metadata": {}
  }
 ],
 "metadata": {
  "kernelspec": {
   "name": "python3",
   "display_name": "Python 3.6.13 64-bit ('res': conda)"
  },
  "language_info": {
   "codemirror_mode": {
    "name": "ipython",
    "version": 3
   },
   "file_extension": ".py",
   "mimetype": "text/x-python",
   "name": "python",
   "nbconvert_exporter": "python",
   "pygments_lexer": "ipython3",
   "version": "3.6.13"
  },
  "toc": {
   "base_numbering": 1,
   "nav_menu": {},
   "number_sections": true,
   "sideBar": true,
   "skip_h1_title": false,
   "title_cell": "Table of Contents",
   "title_sidebar": "Contents",
   "toc_cell": false,
   "toc_position": {},
   "toc_section_display": true,
   "toc_window_display": false
  },
  "interpreter": {
   "hash": "230862b98d5539ea4f6edff4f834846d7aac25a9878478a73da403f7aa963d5d"
  }
 },
 "nbformat": 4,
 "nbformat_minor": 2
}